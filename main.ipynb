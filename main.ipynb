{
 "cells": [
  {
   "cell_type": "code",
   "execution_count": 1,
   "metadata": {},
   "outputs": [],
   "source": [
    "import json\n",
    "import numpy as np\n",
    "import fanc\n",
    "\n",
    "from constants import NEURON_METADATA_PATH\n",
    "from connectivity_comparisons import plot_connectivity_metrics\n",
    "from morphology_plots import generate_morphology_plots\n",
    "from synapse_comparisons import compare_closest_synapses, plot_synapse_distributions, plot_synapse_number_comparisons\n",
    "from neuron_comparisons import NeuronComparator\n",
    "\n",
    "from caveclient import CAVEclient\n",
    "\n",
    "%matplotlib inline\n",
    "from meshparty import trimesh_io, trimesh_vtk\n",
    "from meshparty import skeletonize, skeleton_io, skeleton\n",
    "import cloudvolume\n",
    "\n",
    "%load_ext autoreload\n",
    "%autoreload 2"
   ]
  },
  {
   "cell_type": "code",
   "execution_count": 2,
   "metadata": {},
   "outputs": [],
   "source": [
    "# import fanc\n",
    "# fanc.catmaid.save_catmaid_credentials(\"b43b72c7a83347610b77170ae52c14e2d16eb679\")"
   ]
  },
  {
   "cell_type": "code",
   "execution_count": 3,
   "metadata": {},
   "outputs": [],
   "source": [
    "# client = CAVEclient()\n",
    "datastack_name = 'fanc_production_mar2021'\n",
    "client=CAVEclient(datastack_name=datastack_name)\n",
    "cv = cloudvolume.CloudVolume(client.info.get_datastack_info()['segmentation_source'], use_https=True)\n"
   ]
  },
  {
   "cell_type": "code",
   "execution_count": 4,
   "metadata": {},
   "outputs": [
    {
     "data": {
      "text/plain": [
       "[{'neuron_name': 'main_tibia_flexor_r',\n",
       "  'pt': [55504, 89665, 2706],\n",
       "  'class': 'L1_T1R',\n",
       "  'skid': 735491,\n",
       "  'catmaid_project_id': 60,\n",
       "  'color': [0, 0, 0.7]},\n",
       " {'neuron_name': 'sternal_poserior_rotator_r',\n",
       "  'pt': [63394, 114393, 2304],\n",
       "  'class': 'A1_T1R',\n",
       "  'skid': 710143,\n",
       "  'catmaid_project_id': 60,\n",
       "  'color': [0.7, 0, 0]},\n",
       " {'neuron_name': 'accessory_tibia_flexor_a_l',\n",
       "  'pt': [15452, 91558, 2651],\n",
       "  'class': 'L1_T1L',\n",
       "  'skid': 254329,\n",
       "  'catmaid_project_id': 13,\n",
       "  'color': [0.0, 0.5, 0.0]},\n",
       " {'neuron_name': 'accessory_tibia_flexor_a_r',\n",
       "  'pt': [61648, 90977, 2725],\n",
       "  'class': 'L1_T1R',\n",
       "  'skid': 395949,\n",
       "  'catmaid_project_id': 13,\n",
       "  'color': [0.0, 1.0, 0.0]}]"
      ]
     },
     "execution_count": 4,
     "metadata": {},
     "output_type": "execute_result"
    }
   ],
   "source": [
    "\n",
    "# SET UP AND LOAD DATA\n",
    "with open(NEURON_METADATA_PATH, 'r') as f:\n",
    "    neuron_metadata = json.load(f)\n",
    "neuron_metadata"
   ]
  },
  {
   "cell_type": "code",
   "execution_count": 5,
   "metadata": {},
   "outputs": [],
   "source": [
    "# neuron_metadata = neuron_metadata[2:-1]"
   ]
  },
  {
   "cell_type": "code",
   "execution_count": 6,
   "metadata": {},
   "outputs": [
    {
     "name": "stderr",
     "output_type": "stream",
     "text": [
      "INFO  : Global CATMAID instance set. Caching is ON. (pymaid)\n",
      "INFO  : Cached cleared. (pymaid)\n"
     ]
    },
    {
     "data": {
      "application/vnd.jupyter.widget-view+json": {
       "model_id": "c0afc9a6cfbe42258412494270afe57d",
       "version_major": 2,
       "version_minor": 0
      },
      "text/plain": [
       "CN details:   0%|          | 0/5640 [00:00<?, ?it/s]"
      ]
     },
     "metadata": {},
     "output_type": "display_data"
    },
    {
     "name": "stderr",
     "output_type": "stream",
     "text": [
      "INFO  : Data for 5640 of 5640 unique connector IDs retrieved (pymaid)\n",
      "100%|██████████| 5640/5640 [00:00<00:00, 23615.40it/s]\n",
      "INFO  : Global CATMAID instance set. Caching is ON. (pymaid)\n",
      "INFO  : Cached cleared. (pymaid)\n"
     ]
    },
    {
     "data": {
      "application/vnd.jupyter.widget-view+json": {
       "model_id": "e99904de01db4b2fa505bf8d2f6855f8",
       "version_major": 2,
       "version_minor": 0
      },
      "text/plain": [
       "CN details:   0%|          | 0/1048 [00:00<?, ?it/s]"
      ]
     },
     "metadata": {},
     "output_type": "display_data"
    },
    {
     "name": "stderr",
     "output_type": "stream",
     "text": [
      "INFO  : Data for 1048 of 1048 unique connector IDs retrieved (pymaid)\n",
      "100%|██████████| 1048/1048 [00:00<00:00, 24195.29it/s]\n",
      "INFO  : Global CATMAID instance set. Caching is ON. (pymaid)\n",
      "INFO  : Cached cleared. (pymaid)\n"
     ]
    },
    {
     "data": {
      "application/vnd.jupyter.widget-view+json": {
       "model_id": "9612516897ce4662960f69cf133f367c",
       "version_major": 2,
       "version_minor": 0
      },
      "text/plain": [
       "CN details:   0%|          | 0/478 [00:00<?, ?it/s]"
      ]
     },
     "metadata": {},
     "output_type": "display_data"
    },
    {
     "name": "stderr",
     "output_type": "stream",
     "text": [
      "INFO  : Data for 478 of 478 unique connector IDs retrieved (pymaid)\n",
      "100%|██████████| 478/478 [00:00<00:00, 24052.27it/s]\n",
      "INFO  : Global CATMAID instance set. Caching is ON. (pymaid)\n",
      "INFO  : Cached cleared. (pymaid)\n"
     ]
    },
    {
     "data": {
      "application/vnd.jupyter.widget-view+json": {
       "model_id": "7a5551b5b65e4a8eabbfc2b9fada99f6",
       "version_major": 2,
       "version_minor": 0
      },
      "text/plain": [
       "CN details:   0%|          | 0/392 [00:00<?, ?it/s]"
      ]
     },
     "metadata": {},
     "output_type": "display_data"
    },
    {
     "name": "stderr",
     "output_type": "stream",
     "text": [
      "INFO  : Data for 392 of 392 unique connector IDs retrieved (pymaid)\n",
      "100%|██████████| 392/392 [00:00<00:00, 21764.08it/s]\n"
     ]
    }
   ],
   "source": [
    "\n",
    "# neuron_comparisons = [NeuronComparator(neuron_meta) for neuron_meta in neuron_metadata]\n",
    "neuron_comparisons = [NeuronComparator(neuron_meta,cave_client=client,cloud_volume=cv,load_synapses=True) for neuron_meta in neuron_metadata]\n",
    "\n",
    "# MORPHOLOGY PLOTS FOR Figure 2A\n",
    "#generate_morphology_plots(neuron_comparisons)"
   ]
  },
  {
   "cell_type": "code",
   "execution_count": 7,
   "metadata": {},
   "outputs": [],
   "source": [
    "# generate_morphology_plots(neuron_comparisons)"
   ]
  },
  {
   "cell_type": "code",
   "execution_count": 7,
   "metadata": {},
   "outputs": [],
   "source": [
    "# Saves the groundtruth and predicted synapses\n",
    "\n",
    "for n in neuron_comparisons:\n",
    "    n.ground_truth_synapses.to_csv('./data/synapse_tables/{}_grountruth_synapses.csv'.format(n.name))\n",
    "    n.predicted_synapses.to_csv('./data/synapse_tables/{}_grountruth_synapses.csv'.format(n.name))\n",
    "    "
   ]
  },
  {
   "cell_type": "code",
   "execution_count": 10,
   "metadata": {},
   "outputs": [
    {
     "name": "stderr",
     "output_type": "stream",
     "text": [
      "c:\\Users\\tony\\Code\\reconstruction_tools_paper\\synapse_comparisons.py:25: UserWarning: *c* argument looks like a single numeric RGB or RGBA sequence, which should be avoided as value-mapping will have precedence in case its length matches with *x* & *y*.  Please use the *color* keyword-argument or provide a 2D array with a single row if you intend to specify the same RGB or RGBA value for all points.\n",
      "  plt.scatter(1, neuron.ground_truth_synapses.shape[0], c=neuron.color, s=200, alpha=1, edgecolors='k')\n",
      "c:\\Users\\tony\\Code\\reconstruction_tools_paper\\synapse_comparisons.py:26: UserWarning: *c* argument looks like a single numeric RGB or RGBA sequence, which should be avoided as value-mapping will have precedence in case its length matches with *x* & *y*.  Please use the *color* keyword-argument or provide a 2D array with a single row if you intend to specify the same RGB or RGBA value for all points.\n",
      "  plt.scatter(2, neuron.predicted_synapses.shape[0], c=neuron.color, s=200, alpha=1, edgecolors='k')\n"
     ]
    },
    {
     "data": {
      "image/png": "[encoded data removed]",
      "text/plain": [
       "<Figure size 200x600 with 1 Axes>"
      ]
     },
     "metadata": {},
     "output_type": "display_data"
    }
   ],
   "source": [
    "\n",
    "\n",
    "# SYNAPSE COMPARISONS FOR Figure 2E, S1D, and S1E\n",
    "# Figure 2E\n",
    "plot_synapse_number_comparisons(neuron_comparisons)\n",
    "# Figure S1D\n"
   ]
  },
  {
   "cell_type": "code",
   "execution_count": 22,
   "metadata": {},
   "outputs": [
    {
     "name": "stdout",
     "output_type": "stream",
     "text": [
      "930426.0, p=3.3021966065255015e-07\n",
      "0.12182052096359475, p=1.1855016583050285e-08\n",
      "810104.5, p=0.23375725860817342\n",
      "0.04458729883335805, p=0.1550640621104924\n",
      "885448.0, p=0.005927947163801873\n",
      "0.054103898552038426, p=0.04680223278317216\n"
     ]
    }
   ],
   "source": [
    "import matplotlib.pyplot as plt\n",
    "import seaborn as sns\n",
    "import scipy\n",
    "\n",
    "# sternal_poserior_rotator_r\n",
    "neuron_example = [neuron for neuron in neuron_comparisons if neuron.name == 'sternal_poserior_rotator_r'][0]\n",
    "# plot_synapse_distributions(neuron_example)\n",
    "# Figure S1E\n",
    "\n",
    "ground_truth_synapses = neuron_example.get_synapse_array(neuron_example.ground_truth_synapses['post_pt_position_v4'])\n",
    "predicted_synapses = neuron_example.get_synapse_array(neuron_example.predicted_synapses['post_pt_position'])\n",
    "\n",
    "axis_lookup = {'DV': 2, 'AP': 1, 'ML': 0}\n",
    "multiplier_lookup = {'DV': 45, 'AP': 4.3, 'ML': 4.3}\n",
    "lims = {'DV': [50,170], 'AP': [380,500], 'ML': [180,300]}\n",
    "\n",
    "for axis_name, dim in axis_lookup.items():\n",
    "    plt.figure(figsize=[8, 5])\n",
    "\n",
    "    sns.histplot(ground_truth_synapses[:, dim] * multiplier_lookup[axis_name]/1000,  \n",
    "                stat='probability',  \n",
    "                color='m', \n",
    "                binrange = lims[axis_name],\n",
    "                binwidth=4)\n",
    "    \n",
    "    sns.histplot(predicted_synapses[:, dim]* multiplier_lookup[axis_name]/1000,\n",
    "                color='g',\n",
    "                stat='probability', \n",
    "                binrange = lims[axis_name],\n",
    "                binwidth=4)\n",
    "    \n",
    "    plt.xlabel(f'{axis_name} distribution')\n",
    "    # plt.xticks([])\n",
    "    plt.savefig('./data/{}_distribution_histplot_ax.svg'.format(axis_name))\n",
    "\n",
    "    res = scipy.stats.mannwhitneyu(ground_truth_synapses[:, dim] / 1000,predicted_synapses[:, dim] / 1000)\n",
    "    print('{}, p={}'.format(res.statistic,res.pvalue))\n",
    "    \n",
    "    res = scipy.stats.kstest(ground_truth_synapses[:, dim] / 1000,predicted_synapses[:, dim] / 1000)\n",
    "    print('{}, p={}'.format(res.statistic,res.pvalue))\n",
    "    "
   ]
  },
  {
   "cell_type": "code",
   "execution_count": 12,
   "metadata": {},
   "outputs": [
    {
     "data": {
      "text/plain": [
       "0.09414758269720101"
      ]
     },
     "execution_count": 12,
     "metadata": {},
     "output_type": "execute_result"
    }
   ],
   "source": [
    "(393-356)/393"
   ]
  },
  {
   "cell_type": "code",
   "execution_count": 25,
   "metadata": {},
   "outputs": [
    {
     "data": {
      "text/plain": [
       "0.5585725340558233"
      ]
     },
     "execution_count": 25,
     "metadata": {},
     "output_type": "execute_result"
    }
   ],
   "source": [
    "len(ground_truth_synapses[:, dim])\n",
    "len(predicted_synapses[:, dim])\n",
    "930426/(len(ground_truth_synapses[:, dim])*len(predicted_synapses[:, dim]))"
   ]
  },
  {
   "cell_type": "code",
   "execution_count": 13,
   "metadata": {},
   "outputs": [
    {
     "name": "stderr",
     "output_type": "stream",
     "text": [
      "c:\\Users\\tony\\Code\\reconstruction_tools_paper\\synapse_comparisons.py:79: UserWarning: *c* argument looks like a single numeric RGB or RGBA sequence, which should be avoided as value-mapping will have precedence in case its length matches with *x* & *y*.  Please use the *color* keyword-argument or provide a 2D array with a single row if you intend to specify the same RGB or RGBA value for all points.\n",
      "  plt.scatter(1, np.mean(manual_min_distances), c=neuron.color, s=500, alpha=.75,\n",
      "c:\\Users\\tony\\Code\\reconstruction_tools_paper\\synapse_comparisons.py:81: UserWarning: *c* argument looks like a single numeric RGB or RGBA sequence, which should be avoided as value-mapping will have precedence in case its length matches with *x* & *y*.  Please use the *color* keyword-argument or provide a 2D array with a single row if you intend to specify the same RGB or RGBA value for all points.\n",
      "  plt.scatter(2, np.mean(predicted_min_distances), c=neuron.color, s=500, alpha=.75,\n"
     ]
    },
    {
     "data": {
      "image/png": "[encoded data removed]",
      "text/plain": [
       "<Figure size 400x1200 with 1 Axes>"
      ]
     },
     "metadata": {},
     "output_type": "display_data"
    }
   ],
   "source": [
    "from synapse_comparisons import compare_closest_synapses\n",
    "compare_closest_synapses(neuron_comparisons)\n"
   ]
  },
  {
   "cell_type": "code",
   "execution_count": 21,
   "metadata": {},
   "outputs": [
    {
     "name": "stdout",
     "output_type": "stream",
     "text": [
      "SYNAPSE_THRESHOLD 4\n",
      "actual = 201, predicted = 206\n",
      "precision done at 207 predicted counts\n",
      "recall done at 202 actual_counts\n",
      "actual = 63, predicted = 87\n",
      "precision done at 88 predicted counts\n",
      "recall done at 64 actual_counts\n",
      "actual = 28, predicted = 40\n",
      "precision done at 41 predicted counts\n",
      "recall done at 29 actual_counts\n",
      "actual = 26, predicted = 22\n",
      "precision done at 23 predicted counts\n",
      "recall done at 27 actual_counts\n",
      "\n",
      "SYNAPSE_THRESHOLD 3\n",
      "actual = 247, predicted = 262\n",
      "recall done at 248 actual_counts\n",
      "actual = 82, predicted = 106\n",
      "precision done at 107 predicted counts\n",
      "recall done at 83 actual_counts\n",
      "actual = 39, predicted = 65\n",
      "precision done at 66 predicted counts\n",
      "recall done at 40 actual_counts\n",
      "actual = 39, predicted = 30\n",
      "precision done at 31 predicted counts\n",
      "recall done at 40 actual_counts\n",
      "\n"
     ]
    }
   ],
   "source": [
    "import connectivity_comparisons\n",
    "\n",
    "# CONNECTIVITY COMPARISONS FOR FIGURE 2F and 2G\n",
    "K_MEASURES = np.arange(1, 250, 1)\n",
    "SYNAPSE_THRESHOLD = 3\n",
    "for SYNAPSE_THRESHOLD in range(4,2,-1):\n",
    "    print('SYNAPSE_THRESHOLD {}'.format(SYNAPSE_THRESHOLD))\n",
    "    connectivity_comparisons.plot_connectivity_metrics(neuron_comparisons, K_MEASURES, SYNAPSE_THRESHOLD)\n",
    "    print('')\n",
    "\n",
    "if __name__ == '__main__':\n",
    "    pass"
   ]
  },
  {
   "cell_type": "code",
   "execution_count": null,
   "metadata": {},
   "outputs": [],
   "source": [
    "n1 = neuron_comparisons[0]\n"
   ]
  },
  {
   "cell_type": "code",
   "execution_count": null,
   "metadata": {},
   "outputs": [],
   "source": [
    "print(n1.__dir__())\n"
   ]
  },
  {
   "cell_type": "code",
   "execution_count": null,
   "metadata": {},
   "outputs": [],
   "source": [
    "n1.ne"
   ]
  },
  {
   "cell_type": "code",
   "execution_count": null,
   "metadata": {},
   "outputs": [],
   "source": [
    "ground_truth_synapses = n1._get_catmaid_synapse_coords()"
   ]
  }
 ],
 "metadata": {
  "kernelspec": {
   "display_name": "base",
   "language": "python",
   "name": "python3"
  },
  "language_info": {
   "codemirror_mode": {
    "name": "ipython",
    "version": 3
   },
   "file_extension": ".py",
   "mimetype": "text/x-python",
   "name": "python",
   "nbconvert_exporter": "python",
   "pygments_lexer": "ipython3",
   "version": "3.9.15"
  },
  "vscode": {
   "interpreter": {
    "hash": "2b93c3ce0f0b01938714f8d6ce3882059af39419bb08f14e121c5729b1321faa"
   }
  }
 },
 "nbformat": 4,
 "nbformat_minor": 4
}
