{
 "cells": [
  {
   "cell_type": "code",
   "execution_count": 1,
   "metadata": {},
   "outputs": [],
   "source": [
    "# make a pkl file of adj matrix between GFC2 and GFC4 preMNs and mn ids from v604 and the muscle they innervate so that the figure 6 notebook doesnt need a cave token"
   ]
  },
  {
   "cell_type": "code",
   "execution_count": 1,
   "metadata": {},
   "outputs": [],
   "source": [
    "# import packages\n",
    "import pandas as pd\n",
    "import numpy as np\n",
    "from matplotlib import pyplot,patches\n",
    "import matplotlib.pyplot as plt\n",
    "import seaborn as sns\n",
    "from caveclient import CAVEclient\n",
    "import os\n",
    "\n",
    "client = CAVEclient()\n",
    "datastack_name = 'fanc_production_mar2021'\n",
    "client = CAVEclient(datastack_name)"
   ]
  },
  {
   "cell_type": "code",
   "execution_count": 2,
   "metadata": {},
   "outputs": [
    {
     "data": {
      "text/plain": [
       "(29, 10)"
      ]
     },
     "execution_count": 2,
     "metadata": {},
     "output_type": "execute_result"
    }
   ],
   "source": [
    "# get left wing MNs from cave annotation table\n",
    "wing_table = client.materialize.query_table('wing_motor_neuron_table_v0')\n",
    "\n",
    "wing_table['side'] = [x.strip()[-1] for x in wing_table.classification_system]\n",
    "wingL_table = wing_table[wing_table.side.isin(['L'])]\n",
    "\n",
    "wing_MN_table = wingL_table[~wingL_table.cell_type.isin(['nonMN_unk3','nonMN_unk2','nonMN_unk1','nonMN_PSI','tt','ttb_u','ttc_u', 'PSn_u'])] # other efferent neurons\n",
    "wing_MN_table.shape # should be 29"
   ]
  },
  {
   "cell_type": "code",
   "execution_count": 3,
   "metadata": {},
   "outputs": [
    {
     "data": {
      "text/plain": [
       "(69, 10)"
      ]
     },
     "execution_count": 3,
     "metadata": {},
     "output_type": "execute_result"
    }
   ],
   "source": [
    "# get left leg MNs from cave annotation table\n",
    "leg_table = client.materialize.query_table('motor_neuron_table_v7')\n",
    "\n",
    "leg_table['side'] = [x.strip()[-1] for x in leg_table.classification_system]\n",
    "leg_MN_table = leg_table[leg_table.side.isin(['L'])]\n",
    "\n",
    "leg_MN_table.shape # should be 69"
   ]
  },
  {
   "cell_type": "code",
   "execution_count": 4,
   "metadata": {},
   "outputs": [],
   "source": [
    "mn_df = pd.concat([wing_MN_table,leg_MN_table])"
   ]
  },
  {
   "cell_type": "code",
   "execution_count": 5,
   "metadata": {},
   "outputs": [],
   "source": [
    "# query for the full connectivity matrix\n",
    "full_df = client.materialize.synapse_query(post_ids = mn_df.pt_root_id.to_list())"
   ]
  },
  {
   "cell_type": "code",
   "execution_count": 6,
   "metadata": {},
   "outputs": [],
   "source": [
    "# unique IDs for preMNs, constrain presynaptic partners to preMNs of interest (electrically coupled to giant fiber)\n",
    "\n",
    "escape_preMNs = [648518346514282206,648518346494160395,648518346489931738,648518346494622635,648518346495640464,\n",
    "                 648518346479395264,648518346483242404,648518346526182103,648518346472208434,648518346483122340,648518346486576431]"
   ]
  },
  {
   "cell_type": "code",
   "execution_count": 7,
   "metadata": {},
   "outputs": [
    {
     "name": "stdout",
     "output_type": "stream",
     "text": [
      "11\n",
      "11\n",
      "98\n"
     ]
    }
   ],
   "source": [
    "full_escape_df = full_df[full_df.pre_pt_root_id.isin(escape_preMNs)]\n",
    "\n",
    "print(len(full_escape_df.pre_pt_root_id.value_counts())) # should be 11\n",
    "print(len(escape_preMNs)) # should be 11\n",
    "\n",
    "print(len(full_df.post_pt_root_id.value_counts())) # should be 98"
   ]
  },
  {
   "cell_type": "code",
   "execution_count": 8,
   "metadata": {},
   "outputs": [],
   "source": [
    "# only include >3 synapse strength connections\n",
    "def group_and_count_inputs(df, thresh):\n",
    "\n",
    "    # count the number of synapses between pairs of pre and post synaptic inputs\n",
    "    syn_in_conn=df.groupby(['pre_pt_root_id','post_pt_root_id']).transform(len)['id']\n",
    "    # save this result in a new column and reorder the index\n",
    "    df['syn_in_conn']=syn_in_conn\n",
    "    df = df[['id', 'pre_pt_root_id','post_pt_root_id','score','syn_in_conn']].sort_values('syn_in_conn', ascending=False).reset_index()\n",
    "\n",
    "    # Filter out small synapses between pairs of neurons and now print the shape\n",
    "    df = df[df['syn_in_conn']>=thresh]\n",
    "    # print(df.shape)\n",
    "    return df"
   ]
  },
  {
   "cell_type": "code",
   "execution_count": 9,
   "metadata": {},
   "outputs": [
    {
     "name": "stdout",
     "output_type": "stream",
     "text": [
      "43\n",
      "26\n"
     ]
    },
    {
     "name": "stderr",
     "output_type": "stream",
     "text": [
      "/var/folders/kc/3ksx1s8x04xcd7r2v8zsqqtm0000gn/T/ipykernel_1051/418363652.py:7: SettingWithCopyWarning: \n",
      "A value is trying to be set on a copy of a slice from a DataFrame.\n",
      "Try using .loc[row_indexer,col_indexer] = value instead\n",
      "\n",
      "See the caveats in the documentation: https://pandas.pydata.org/pandas-docs/stable/user_guide/indexing.html#returning-a-view-versus-a-copy\n",
      "  df['syn_in_conn']=syn_in_conn\n"
     ]
    }
   ],
   "source": [
    "print(len(full_escape_df.post_pt_root_id.value_counts()))\n",
    "\n",
    "escape_df = group_and_count_inputs(full_escape_df, 3)\n",
    "\n",
    "print(len(escape_df.post_pt_root_id.value_counts()))\n"
   ]
  },
  {
   "cell_type": "code",
   "execution_count": 10,
   "metadata": {},
   "outputs": [],
   "source": [
    "# include synapse coordinates\n",
    "escape_df = escape_df.merge(full_escape_df[['id','pre_pt_position','post_pt_position']])"
   ]
  },
  {
   "cell_type": "code",
   "execution_count": 19,
   "metadata": {},
   "outputs": [
    {
     "data": {
      "text/plain": [
       "1150"
      ]
     },
     "execution_count": 19,
     "metadata": {},
     "output_type": "execute_result"
    }
   ],
   "source": [
    "# label pre_id as GFC4 or GFC2 and post id by mn label\n",
    "mn_df['post_pt_root_id'] = mn_df['pt_root_id']\n",
    "GFC4 = [648518346483242404,648518346472208434,648518346479395264,648518346526182103,648518346495640464,648518346483122340,648518346494622635,648518346486576431]\n",
    "GFC2 = [648518346514282206,648518346489931738,648518346494160395]\n",
    "\n",
    "escape_df = escape_df.merge(mn_df[['post_pt_root_id','cell_type']])\n",
    "escape_df.loc[escape_df['pre_pt_root_id'].isin(GFC4), 'preMN_type'] = 'GFC4'\n",
    "escape_df.loc[escape_df['pre_pt_root_id'].isin(GFC2), 'preMN_type'] = 'GFC2'\n",
    "escape_df.preMN_type.value_counts().sum() #should add up to 1150"
   ]
  },
  {
   "cell_type": "code",
   "execution_count": 21,
   "metadata": {},
   "outputs": [],
   "source": [
    "escape_df.to_pickle('escape_df.pkl')"
   ]
  },
  {
   "cell_type": "code",
   "execution_count": null,
   "metadata": {},
   "outputs": [],
   "source": []
  }
 ],
 "metadata": {
  "kernelspec": {
   "display_name": ".venv",
   "language": "python",
   "name": "python3"
  },
  "language_info": {
   "codemirror_mode": {
    "name": "ipython",
    "version": 3
   },
   "file_extension": ".py",
   "mimetype": "text/x-python",
   "name": "python",
   "nbconvert_exporter": "python",
   "pygments_lexer": "ipython3",
   "version": "3.9.13"
  }
 },
 "nbformat": 4,
 "nbformat_minor": 2
}
