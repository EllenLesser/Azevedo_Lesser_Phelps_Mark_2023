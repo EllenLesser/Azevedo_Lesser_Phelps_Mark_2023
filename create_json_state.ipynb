{
 "cells": [
  {
   "cell_type": "code",
   "execution_count": 1,
   "metadata": {},
   "outputs": [],
   "source": [
    "# generate links / json states programatically by cell type or anything, probably hack-y but it works\n",
    "from caveclient import CAVEclient\n",
    "import datetime\n",
    "import pandas as pd\n",
    "import numpy as np\n",
    "import json\n",
    "\n",
    "client = CAVEclient()\n",
    "datastack_name = 'fanc_production_mar2021'\n",
    "client = CAVEclient(datastack_name)\n",
    "client.materialize.version = 604\n",
    "# timestamp = datetime.datetime.fromtimestamp(1685002201.254304)"
   ]
  },
  {
   "cell_type": "code",
   "execution_count": 4,
   "metadata": {},
   "outputs": [],
   "source": [
    "def make_json(seg_ids, hidden_ids):\n",
    "    state = {\n",
    "    \"layers\": [\n",
    "      {\n",
    "        \"source\": \"precomputed://gs://lee-lab_female-adult-nerve-cord/alignmentV4/em/rechunked\",\n",
    "        \"type\": \"image\",\n",
    "        \"blend\": \"default\",\n",
    "        \"shaderControls\": {},\n",
    "        \"name\": \"FANC EM\"\n",
    "      },\n",
    "      {\n",
    "        \"type\": \"segmentation\",\n",
    "        \"mesh\": \"precomputed://gs://lee-lab_female-adult-nerve-cord/meshes/FANC/FANC_neurons/meshes\",\n",
    "        \"selectedAlpha\": 0.4,\n",
    "        \"colorSeed\": 3788587020,\n",
    "        \"segments\": seg_ids,\n",
    "        \"hiddenSegments\": hidden_ids,\n",
    "        \"skeletonRendering\": {\n",
    "          \"mode2d\": \"lines_and_points\",\n",
    "          \"mode3d\": \"lines\"\n",
    "        },\n",
    "        \"name\": \"published FANC neurons\"\n",
    "      },\n",
    "      {\n",
    "        \"type\": \"segmentation\",\n",
    "        \"mesh\": \"precomputed://gs://lee-lab_female-adult-nerve-cord/alignmentV4/volume_meshes/meshes\",\n",
    "        \"objectAlpha\": 0.1,\n",
    "        \"hideSegmentZero\": False,\n",
    "        \"ignoreSegmentInteractions\": True,\n",
    "        \"segmentColors\": {\n",
    "          \"1\": \"#bfbfbf\",\n",
    "          \"2\": \"#d343d6\"\n",
    "        },\n",
    "        \"segments\": [\n",
    "          \"1\",\n",
    "          \"2\"\n",
    "        ],\n",
    "        \"skeletonRendering\": {\n",
    "          \"mode2d\": \"lines_and_points\",\n",
    "          \"mode3d\": \"lines\"\n",
    "        },\n",
    "        \"name\": \"region outlines\"\n",
    "      }\n",
    "    ],\n",
    "    \"navigation\": {\n",
    "      \"pose\": {\n",
    "        \"position\": {\n",
    "          \"voxelSize\": [\n",
    "            4.300000190734863,\n",
    "            4.300000190734863,\n",
    "            45\n",
    "          ],\n",
    "          \"voxelCoordinates\": [38734, 148426, 2200\n",
    "          ]\n",
    "        }\n",
    "      },\n",
    "      \"zoomFactor\": 12\n",
    "    },\n",
    "    \"showAxisLines\": False,\n",
    "    \"showDefaultAnnotations\": False,\n",
    "    \"perspectiveZoom\": 6062.41070084089,\n",
    "    \"showSlices\": False,\n",
    "    \"gpuMemoryLimit\": 4000000000,\n",
    "    \"systemMemoryLimit\": 4000000000,\n",
    "    \"concurrentDownloads\": 64,\n",
    "    \"jsonStateServer\": \"https://global.daf-apis.com/nglstate/api/v1/post\",\n",
    "    \"selectedLayer\": {\n",
    "      \"layer\": \"published FANC neurons\",\n",
    "      \"visible\": True\n",
    "    },\n",
    "    \"layout\": \"3d\"\n",
    "  }\n",
    "\n",
    "    return state"
   ]
  },
  {
   "cell_type": "code",
   "execution_count": 5,
   "metadata": {},
   "outputs": [
    {
     "data": {
      "text/plain": [
       "(29, 10)"
      ]
     },
     "execution_count": 5,
     "metadata": {},
     "output_type": "execute_result"
    }
   ],
   "source": [
    "# get left wing MNs from cave annotation table\n",
    "wing_table = client.materialize.query_table('wing_motor_neuron_table_v0')\n",
    "\n",
    "wing_table['side'] = [x.strip()[-1] for x in wing_table.classification_system]\n",
    "wingL_table = wing_table[wing_table.side.isin(['L'])]\n",
    "\n",
    "wing_MN_table = wingL_table[~wingL_table.cell_type.isin(['nonMN_unk3','nonMN_unk2','nonMN_unk1','nonMN_PSI','tt','ttb_u','ttc_u', 'PSn_u'])] # other efferent neurons\n",
    "wing_MN_table.shape # should be 29"
   ]
  },
  {
   "cell_type": "code",
   "execution_count": 6,
   "metadata": {},
   "outputs": [
    {
     "data": {
      "text/plain": [
       "(69, 10)"
      ]
     },
     "execution_count": 6,
     "metadata": {},
     "output_type": "execute_result"
    }
   ],
   "source": [
    "# get left leg MNs from cave annotation table\n",
    "leg_table = client.materialize.query_table('motor_neuron_table_v7')\n",
    "\n",
    "leg_table['side'] = [x.strip()[-1] for x in leg_table.classification_system]\n",
    "leg_MN_table = leg_table[leg_table.side.isin(['L'])]\n",
    "\n",
    "leg_MN_table.shape # should be 69"
   ]
  },
  {
   "cell_type": "code",
   "execution_count": 7,
   "metadata": {},
   "outputs": [],
   "source": [
    "leg_dict = {\n",
    "    \"coxa_swing\" : [648518346491659326,648518346479325585,648518346517827432,648518346486895331,648518346487504531,648518346517437482,648518346487756866],\n",
    "    \"coxa_stance\" : [648518346478992848,648518346488854257,648518346490902957,648518346489802071,648518346479077839,648518346489076201],\n",
    "    \"trochanter_extend\" : [648518346504856435,648518346496195084,648518346482347156,648518346492578233,648518346515708666,648518346467061998,648518346502537286,648518346498089882],\n",
    "    \"trochanter_flex\" : [648518346487577002,648518346514275550,648518346517824616,648518346496812333,648518346479840662,648518346499918803,648518346514277931,648518346488873565,648518346498498324,648518346490899373,648518346489470041],\n",
    "    \"femur_reductor\" : [648518346487743188,648518346493238592,648518346496372087,648518346502536518,648518346492338559,648518346494195703],\n",
    "    \"tibia_extend\" : [648518346493238080,648518346495797355],\n",
    "    \"tibia_flex_A\" : [648518346496059082,648518346494196727,648518346496932836,648518346484809885,648518346493836024,648518346486906595,648518346482926501,648518346489731855,648518346494269831,648518346499176513],\n",
    "    \"tibia_flex_B\" : [648518346490901677,648518346496057290,648518346493202674,648518346479331004,648518346482925989,648518346517830760,648518346495467855],\n",
    "    \"tibia_flex_C\" : [648518346496852276,648518346491041571],\n",
    "    \"substrate_grip\" : [648518346491158561,648518346475434081,648518346504867443,648518346486902499,648518346484620291,648518346515711482,648518346493203442,648518346496934372],\n",
    "    \"tarsus_control\" : [648518346486890393,648518346491158817]\n",
    "}\n",
    "\n",
    "wing_dict = {\n",
    "    \"DLM\" : [648518346472269618,648518346486563887,648518346515087943,648518346494250631,648518346486629017],\n",
    "    \"DVM\" : [648518346492294527,648518346503730081,648518346488827114,648518346512153646,648518346492384195,648518346499049025,648518346509427075],\n",
    "    \"tension\" : [648518346492244419,648518346497125761,648518346490085915,648518346486682876,648518346472953700],\n",
    "    \"steerA\" : [648518346488622926,648518346487480490,648518346509604297],\n",
    "    \"steerB\" : [648518346470491902,648518346471876251,648518346499256923],\n",
    "    \"steerC\" : [648518346493634040,648518346501373528],\n",
    "    \"steerhg2\" : [648518346492048172],\n",
    "    \"steerD\" : [648518346482131604,648518346480882144,648518346515574010,648518346492294783]\n",
    "}"
   ]
  },
  {
   "cell_type": "code",
   "execution_count": 16,
   "metadata": {},
   "outputs": [],
   "source": [
    "# MN table with links\n",
    "\n",
    "json_base = 'https://neuromancer-seung-import.appspot.com/?json_url=https://raw.githubusercontent.com/EllenLesser/Azevedo_Lesser_Phelps_Mark_2023/main/jsons/'\n",
    "show_ids = [648518346481269135,648518346499840652,648518346470435582,648518346491594152]\n",
    "hidden_ids = []\n",
    "title = 'Figure_1G'\n",
    "\n",
    "formatted_ids = [str(x) for x in show_ids]\n",
    "state = make_json(seg_ids = formatted_ids,\n",
    "                        hidden_ids = hidden_ids)\n",
    "json_title = str(title)\n",
    "\n",
    "# save a json\n",
    "with open('jsons/{}.json'.format(json_title), \"w\") as outfile:\n",
    "        json.dump(state, outfile)\n",
    "\n",
    "table_link = json_base + json_title\n",
    "hyperlink = 'HYPERLINK(\"{}.json\";\"{}\")'.format(table_link, json_title)\n"
   ]
  },
  {
   "cell_type": "code",
   "execution_count": 17,
   "metadata": {},
   "outputs": [
    {
     "data": {
      "text/plain": [
       "'HYPERLINK(\"https://neuromancer-seung-import.appspot.com/?json_url=https://raw.githubusercontent.com/EllenLesser/Azevedo_Lesser_Phelps_Mark_2023/main/jsons/Figure_1G.json\";\"Figure_1G\")'"
      ]
     },
     "execution_count": 17,
     "metadata": {},
     "output_type": "execute_result"
    }
   ],
   "source": [
    "hyperlink"
   ]
  },
  {
   "cell_type": "code",
   "execution_count": 18,
   "metadata": {},
   "outputs": [
    {
     "data": {
      "text/plain": [
       "'https://neuromancer-seung-import.appspot.com/?json_url=https://raw.githubusercontent.com/EllenLesser/Azevedo_Lesser_Phelps_Mark_2023/main/jsons/Figure_1G'"
      ]
     },
     "execution_count": 18,
     "metadata": {},
     "output_type": "execute_result"
    }
   ],
   "source": [
    "table_link"
   ]
  },
  {
   "cell_type": "code",
   "execution_count": null,
   "metadata": {},
   "outputs": [],
   "source": []
  }
 ],
 "metadata": {
  "kernelspec": {
   "display_name": ".venv",
   "language": "python",
   "name": "python3"
  },
  "language_info": {
   "codemirror_mode": {
    "name": "ipython",
    "version": 3
   },
   "file_extension": ".py",
   "mimetype": "text/x-python",
   "name": "python",
   "nbconvert_exporter": "python",
   "pygments_lexer": "ipython3",
   "version": "3.9.13"
  }
 },
 "nbformat": 4,
 "nbformat_minor": 2
}
